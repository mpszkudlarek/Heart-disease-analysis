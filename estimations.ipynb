{
 "cells": [
  {
   "metadata": {
    "ExecuteTime": {
     "end_time": "2024-06-20T20:14:53.802778Z",
     "start_time": "2024-06-20T20:14:53.798650Z"
    }
   },
   "cell_type": "code",
   "source": [
    "import pandas as pd\n",
    "from scipy.stats import t"
   ],
   "id": "7f5a28e8db0fdfd5",
   "outputs": [],
   "execution_count": 34
  },
  {
   "metadata": {
    "ExecuteTime": {
     "end_time": "2024-06-20T20:14:53.823860Z",
     "start_time": "2024-06-20T20:14:53.804789Z"
    }
   },
   "cell_type": "code",
   "source": [
    "cleaned_data_path = 'output/cleaned_data.csv'\n",
    "df = pd.read_csv(cleaned_data_path)\n",
    "\n",
    "df.head(), df.describe(), df.dtypes"
   ],
   "id": "initial_id",
   "outputs": [
    {
     "data": {
      "text/plain": [
       "(   age     sex    dataset               cp  trestbps   chol    fbs  \\\n",
       " 0   63    Male  Cleveland   typical angina     145.0  233.0   True   \n",
       " 1   67    Male  Cleveland     asymptomatic     160.0  286.0  False   \n",
       " 2   67    Male  Cleveland     asymptomatic     120.0  229.0  False   \n",
       " 3   37    Male  Cleveland      non-anginal     130.0  250.0  False   \n",
       " 4   41  Female  Cleveland  atypical angina     130.0  204.0  False   \n",
       " \n",
       "           restecg  thalch  exang  oldpeak  num  \n",
       " 0  lv hypertrophy   150.0  False      2.3    0  \n",
       " 1  lv hypertrophy   108.0   True      1.5    2  \n",
       " 2  lv hypertrophy   129.0   True      2.6    1  \n",
       " 3          normal   187.0  False      3.5    0  \n",
       " 4  lv hypertrophy   172.0  False      1.4    0  ,\n",
       "               age   trestbps        chol      thalch     oldpeak         num\n",
       " count  694.000000  694.00000  694.000000  694.000000  694.000000  694.000000\n",
       " mean    52.907781  132.35879  241.743516  141.347262    0.880403    0.845821\n",
       " std      9.488513   17.20061   46.650930   24.267310    1.072100    1.111726\n",
       " min     28.000000   92.00000  117.000000   71.000000    0.000000    0.000000\n",
       " 25%     46.000000  120.00000  209.000000  125.000000    0.000000    0.000000\n",
       " 50%     54.000000  130.00000  237.000000  140.000000    0.500000    0.000000\n",
       " 75%     59.000000  140.00000  274.000000  160.000000    1.500000    1.000000\n",
       " max     77.000000  200.00000  369.000000  202.000000    6.200000    4.000000,\n",
       " age           int64\n",
       " sex          object\n",
       " dataset      object\n",
       " cp           object\n",
       " trestbps    float64\n",
       " chol        float64\n",
       " fbs            bool\n",
       " restecg      object\n",
       " thalch      float64\n",
       " exang          bool\n",
       " oldpeak     float64\n",
       " num           int64\n",
       " dtype: object)"
      ]
     },
     "execution_count": 35,
     "metadata": {},
     "output_type": "execute_result"
    }
   ],
   "execution_count": 35
  },
  {
   "metadata": {
    "ExecuteTime": {
     "end_time": "2024-06-20T20:14:53.831355Z",
     "start_time": "2024-06-20T20:14:53.824799Z"
    }
   },
   "cell_type": "code",
   "source": [
    "point_estimates = df[['age', 'chol', 'trestbps']].mean()\n",
    "point_estimates"
   ],
   "id": "ad66e9f418c8b1bd",
   "outputs": [
    {
     "data": {
      "text/plain": [
       "age          52.907781\n",
       "chol        241.743516\n",
       "trestbps    132.358790\n",
       "dtype: float64"
      ]
     },
     "execution_count": 36,
     "metadata": {},
     "output_type": "execute_result"
    }
   ],
   "execution_count": 36
  },
  {
   "metadata": {
    "ExecuteTime": {
     "end_time": "2024-06-20T20:14:53.842036Z",
     "start_time": "2024-06-20T20:14:53.832362Z"
    }
   },
   "cell_type": "code",
   "source": [
    "def calculate_confidence_intervals(data, variables, confidence_levels=None):\n",
    "    if confidence_levels is None:\n",
    "        confidence_levels = [0.9, 0.95, 0.99]\n",
    "    n = len(data)\n",
    "    df = n - 1\n",
    "    std_devs = data[variables].std()\n",
    "    point_estimates = data[variables].mean()\n",
    "\n",
    "    ci_dict = {}\n",
    "\n",
    "    for level in confidence_levels:\n",
    "        t_value = t.ppf(1 - (1 - level) / 2, df)\n",
    "        margin_of_error = t_value * (std_devs / (n ** 0.5))\n",
    "\n",
    "        ci_lower = point_estimates - margin_of_error\n",
    "        ci_upper = point_estimates + margin_of_error\n",
    "        ci_dict[level] = (ci_lower, ci_upper)\n",
    "\n",
    "    return ci_dict\n",
    "\n",
    "\n",
    "variables = ['age', 'chol', 'trestbps']\n",
    "confidence_intervals = calculate_confidence_intervals(df, variables)\n",
    "\n",
    "for conf_level, intervals in confidence_intervals.items():\n",
    "    print(f\"Confidence Level {conf_level * 100}%:\")\n",
    "    for var in variables:\n",
    "        print(f\"  {var.capitalize()}: [{intervals[0][var]:.2f}, {intervals[1][var]:.2f}]\")"
   ],
   "id": "e1ebf1ee8d522a8e",
   "outputs": [
    {
     "name": "stdout",
     "output_type": "stream",
     "text": [
      "Confidence Level 90.0%:\n",
      "  Age: [52.31, 53.50]\n",
      "  Chol: [238.83, 244.66]\n",
      "  Trestbps: [131.28, 133.43]\n",
      "Confidence Level 95.0%:\n",
      "  Age: [52.20, 53.61]\n",
      "  Chol: [238.27, 245.22]\n",
      "  Trestbps: [131.08, 133.64]\n",
      "Confidence Level 99.0%:\n",
      "  Age: [51.98, 53.84]\n",
      "  Chol: [237.17, 246.32]\n",
      "  Trestbps: [130.67, 134.05]\n"
     ]
    }
   ],
   "execution_count": 37
  }
 ],
 "metadata": {
  "kernelspec": {
   "display_name": "Python 3",
   "language": "python",
   "name": "python3"
  },
  "language_info": {
   "codemirror_mode": {
    "name": "ipython",
    "version": 2
   },
   "file_extension": ".py",
   "mimetype": "text/x-python",
   "name": "python",
   "nbconvert_exporter": "python",
   "pygments_lexer": "ipython2",
   "version": "2.7.6"
  }
 },
 "nbformat": 4,
 "nbformat_minor": 5
}
